{
  "cells": [
    {
      "cell_type": "markdown",
      "source": [
        "# **Variables y tipos de datos 📦**"
      ],
      "metadata": {
        "id": "jNbwE_UUdaJn"
      },
      "id": "jNbwE_UUdaJn"
    },
    {
      "cell_type": "markdown",
      "source": [
        "### **¿Qué es una variable?**\n",
        "\n",
        "Una variable es un espacio en memoria que usamos para almacenar información; de forma abstracta puedes verla como una “caja” con nombre la cual contiene al dato. Los tipos más conocidos son:\n",
        "\n",
        "<p style=\"text-align:center;\">\n",
        "\n",
        "| Tipo    | Ejemplo          | Descripción                           |\n",
        "| ------- | ---------------- | ------------------------------------- |\n",
        "| `int`   | `10`             | Números enteros                       |\n",
        "| `float` | `3.14`           | Números decimales                     |\n",
        "| `str`   | `\"Hola\"`         | Cadenas de texto                      |\n",
        "</p>\n",
        "\n",
        "En Python no es necesario declarar el tipo de una variable, el intérprete lo deduce automáticamente a partir del valor que le asignas."
      ],
      "metadata": {
        "id": "VvafaGl2r5G0"
      },
      "id": "VvafaGl2r5G0"
    },
    {
      "cell_type": "code",
      "execution_count": null,
      "metadata": {
        "id": "mxDm6xA_ckqr"
      },
      "outputs": [],
      "source": [
        "entero = 10\n",
        "print(type(entero))\n",
        "flotante = 3.14\n",
        "print(type(flotante))\n",
        "palabra = \"Hola\"\n",
        "print(type(palabra))"
      ],
      "id": "mxDm6xA_ckqr"
    },
    {
      "cell_type": "markdown",
      "id": "04677e67",
      "metadata": {
        "id": "04677e67"
      },
      "source": [
        "# 🐍 Ejercicios de Input y Conversión de Datos en Python\n",
        "\n",
        "Responde directamente en las celdas de código. Cada ejercicio indica lo que debes hacer."
      ]
    },
    {
      "cell_type": "markdown",
      "id": "5261b6c9",
      "metadata": {
        "id": "5261b6c9"
      },
      "source": [
        "### Ejercicio 1: Suma de dos números\n",
        "Pide al usuario dos números y muestra la suma de ambos."
      ]
    },
    {
      "cell_type": "code",
      "execution_count": null,
      "id": "b747aa21",
      "metadata": {
        "id": "b747aa21",
        "colab": {
          "base_uri": "https://localhost:8080/"
        },
        "outputId": "77b6b5c6-a88a-4d14-eed8-c688cc264643"
      },
      "outputs": [
        {
          "output_type": "stream",
          "name": "stdout",
          "text": [
            "ingrese un numero:7\n",
            "ingrese un numero:2\n",
            "9\n"
          ]
        }
      ],
      "source": [
        "# Escribe tu código\n",
        "var=int(input(\"ingrese un numero:\"))\n",
        "var2=int(input(\"ingrese un numero:\"))\n",
        "print(var+var2)"
      ]
    },
    {
      "cell_type": "markdown",
      "id": "259eb526",
      "metadata": {
        "id": "259eb526"
      },
      "source": [
        "### Ejercicio 2: Edad el próximo año\n",
        "Pide al usuario su edad y muestra cuántos años tendrá el próximo año."
      ]
    },
    {
      "cell_type": "code",
      "source": [],
      "metadata": {
        "id": "h0NVBTPn70W2"
      },
      "id": "h0NVBTPn70W2",
      "execution_count": null,
      "outputs": []
    },
    {
      "cell_type": "code",
      "execution_count": null,
      "id": "be875d20",
      "metadata": {
        "id": "be875d20",
        "colab": {
          "base_uri": "https://localhost:8080/"
        },
        "outputId": "70592d6c-59f7-4f6e-a62c-5b54a13879d6"
      },
      "outputs": [
        {
          "output_type": "stream",
          "name": "stdout",
          "text": [
            "ingrese su edad: 16\n",
            "17\n"
          ]
        }
      ],
      "source": [
        "# Escribe tu código aquí\n",
        "var=int(input(\"ingrese su edad: \"))\n",
        "print(var+1)"
      ]
    },
    {
      "cell_type": "markdown",
      "id": "500d1025",
      "metadata": {
        "id": "500d1025"
      },
      "source": [
        "### Ejercicio 3: Nombre completo\n",
        "Pide al usuario su nombre y apellido, y muestra el nombre completo."
      ]
    },
    {
      "cell_type": "code",
      "execution_count": null,
      "id": "09d23768",
      "metadata": {
        "id": "09d23768",
        "colab": {
          "base_uri": "https://localhost:8080/"
        },
        "outputId": "718b8133-44b2-4491-e135-78bea828f76a"
      },
      "outputs": [
        {
          "output_type": "stream",
          "name": "stdout",
          "text": [
            "ingrese su nombre: emilio\n",
            "ingrese su apellido: guerrero\n",
            "emilio guerrero\n"
          ]
        }
      ],
      "source": [
        "# Escribe tu código aquí\n",
        "var=input(\"ingrese su nombre: \")\n",
        "var2=input(\"ingrese su apellido: \")\n",
        "print(var+\" \"+var2)\n"
      ]
    },
    {
      "cell_type": "markdown",
      "id": "264da48a",
      "metadata": {
        "id": "264da48a"
      },
      "source": [
        "### Ejercicio 4: Calcular precio total\n",
        "Pide al usuario el precio de un producto y la cantidad que va a comprar, luego muestra el total a pagar."
      ]
    },
    {
      "cell_type": "code",
      "source": [],
      "metadata": {
        "id": "1YZ_plaO-cUw"
      },
      "id": "1YZ_plaO-cUw",
      "execution_count": null,
      "outputs": []
    },
    {
      "cell_type": "markdown",
      "id": "5bb95243",
      "metadata": {
        "id": "5bb95243"
      },
      "source": [
        "### Ejercicio 5: Convertir minutos a segundos\n",
        "Pide al usuario una cantidad de minutos y muestra cuántos segundos equivalen."
      ]
    },
    {
      "cell_type": "code",
      "execution_count": 7,
      "id": "8be4e619",
      "metadata": {
        "id": "8be4e619",
        "colab": {
          "base_uri": "https://localhost:8080/"
        },
        "outputId": "c9e2262c-3af7-4ec2-c718-36d9e69a6f59"
      },
      "outputs": [
        {
          "output_type": "stream",
          "name": "stdout",
          "text": [
            "Ingrese la cantidad de minutos:90\n",
            "5400\n"
          ]
        }
      ],
      "source": [
        "# Escribe tu código aquí\n",
        "var=int(input(\"Ingrese la cantidad de minutos:\"))\n",
        "print(var*60)\n"
      ]
    }
  ],
  "metadata": {
    "colab": {
      "provenance": [],
      "toc_visible": true
    },
    "language_info": {
      "name": "python"
    },
    "kernelspec": {
      "name": "python3",
      "display_name": "Python 3"
    }
  },
  "nbformat": 4,
  "nbformat_minor": 5
}